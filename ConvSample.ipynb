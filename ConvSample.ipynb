{
 "cells": [
  {
   "cell_type": "markdown",
   "id": "d0420693",
   "metadata": {},
   "source": [
    "## PythonとTensorFlowでAIを学ぶ (畳み込み層)\n",
    "### サンプルコード\n",
    "[参考サイト](https://www.tensorflow.org/tutorials/images/intro_to_cnns?hl=ja)"
   ]
  },
  {
   "cell_type": "code",
   "execution_count": 1,
   "id": "46c11920-1ed5-4ef3-b345-5fbf703aa432",
   "metadata": {},
   "outputs": [],
   "source": [
    "%matplotlib inline"
   ]
  },
  {
   "cell_type": "code",
   "execution_count": 2,
   "id": "a40da719",
   "metadata": {},
   "outputs": [],
   "source": [
    "# import os\n",
    "# os.environ[\"OPENBLAS_NUM_THREADS\"] = \"1\""
   ]
  },
  {
   "cell_type": "code",
   "execution_count": 3,
   "id": "a322cade",
   "metadata": {},
   "outputs": [
    {
     "name": "stderr",
     "output_type": "stream",
     "text": [
      "2024-02-05 23:21:52.685032: I tensorflow/core/util/port.cc:113] oneDNN custom operations are on. You may see slightly different numerical results due to floating-point round-off errors from different computation orders. To turn them off, set the environment variable `TF_ENABLE_ONEDNN_OPTS=0`.\n",
      "2024-02-05 23:21:52.728519: E external/local_xla/xla/stream_executor/cuda/cuda_dnn.cc:9261] Unable to register cuDNN factory: Attempting to register factory for plugin cuDNN when one has already been registered\n",
      "2024-02-05 23:21:52.728564: E external/local_xla/xla/stream_executor/cuda/cuda_fft.cc:607] Unable to register cuFFT factory: Attempting to register factory for plugin cuFFT when one has already been registered\n",
      "2024-02-05 23:21:52.730325: E external/local_xla/xla/stream_executor/cuda/cuda_blas.cc:1515] Unable to register cuBLAS factory: Attempting to register factory for plugin cuBLAS when one has already been registered\n",
      "2024-02-05 23:21:52.744604: I tensorflow/core/platform/cpu_feature_guard.cc:182] This TensorFlow binary is optimized to use available CPU instructions in performance-critical operations.\n",
      "To enable the following instructions: AVX2 AVX_VNNI FMA, in other operations, rebuild TensorFlow with the appropriate compiler flags.\n",
      "2024-02-05 23:21:53.197866: W tensorflow/compiler/tf2tensorrt/utils/py_utils.cc:38] TF-TRT Warning: Could not find TensorRT\n"
     ]
    }
   ],
   "source": [
    "import matplotlib.pyplot as plt\n",
    "import numpy as np\n",
    "import tensorflow as tf\n",
    "from tensorflow.python.client import device_lib\n",
    "from tensorflow.keras import datasets, layers, models, optimizers, losses"
   ]
  },
  {
   "cell_type": "code",
   "execution_count": 4,
   "id": "4aa8ef06-8ff7-4b6c-8d9e-23d17188bc35",
   "metadata": {},
   "outputs": [
    {
     "name": "stdout",
     "output_type": "stream",
     "text": [
      "2.15.0\n"
     ]
    },
    {
     "name": "stderr",
     "output_type": "stream",
     "text": [
      "2024-02-05 23:21:53.531493: I external/local_xla/xla/stream_executor/cuda/cuda_executor.cc:887] could not open file to read NUMA node: /sys/bus/pci/devices/0000:01:00.0/numa_node\n",
      "Your kernel may have been built without NUMA support.\n",
      "2024-02-05 23:21:53.637822: I external/local_xla/xla/stream_executor/cuda/cuda_executor.cc:887] could not open file to read NUMA node: /sys/bus/pci/devices/0000:01:00.0/numa_node\n",
      "Your kernel may have been built without NUMA support.\n",
      "2024-02-05 23:21:53.637856: I external/local_xla/xla/stream_executor/cuda/cuda_executor.cc:887] could not open file to read NUMA node: /sys/bus/pci/devices/0000:01:00.0/numa_node\n",
      "Your kernel may have been built without NUMA support.\n",
      "2024-02-05 23:21:53.736817: I external/local_xla/xla/stream_executor/cuda/cuda_executor.cc:887] could not open file to read NUMA node: /sys/bus/pci/devices/0000:01:00.0/numa_node\n",
      "Your kernel may have been built without NUMA support.\n",
      "2024-02-05 23:21:53.736849: I external/local_xla/xla/stream_executor/cuda/cuda_executor.cc:887] could not open file to read NUMA node: /sys/bus/pci/devices/0000:01:00.0/numa_node\n",
      "Your kernel may have been built without NUMA support.\n",
      "2024-02-05 23:21:53.736854: I tensorflow/core/common_runtime/gpu/gpu_device.cc:2022] Could not identify NUMA node of platform GPU id 0, defaulting to 0.  Your kernel may not have been built with NUMA support.\n",
      "2024-02-05 23:21:53.736870: I external/local_xla/xla/stream_executor/cuda/cuda_executor.cc:887] could not open file to read NUMA node: /sys/bus/pci/devices/0000:01:00.0/numa_node\n",
      "Your kernel may have been built without NUMA support.\n",
      "2024-02-05 23:21:53.736898: I tensorflow/core/common_runtime/gpu/gpu_device.cc:1929] Created device /device:GPU:0 with 13703 MB memory:  -> device: 0, name: NVIDIA GeForce RTX 4060 Ti, pci bus id: 0000:01:00.0, compute capability: 8.9\n"
     ]
    },
    {
     "data": {
      "text/plain": [
       "[name: \"/device:CPU:0\"\n",
       " device_type: \"CPU\"\n",
       " memory_limit: 268435456\n",
       " locality {\n",
       " }\n",
       " incarnation: 2583162303022819989\n",
       " xla_global_id: -1,\n",
       " name: \"/device:GPU:0\"\n",
       " device_type: \"GPU\"\n",
       " memory_limit: 14368636928\n",
       " locality {\n",
       "   bus_id: 1\n",
       "   links {\n",
       "   }\n",
       " }\n",
       " incarnation: 983162233115251768\n",
       " physical_device_desc: \"device: 0, name: NVIDIA GeForce RTX 4060 Ti, pci bus id: 0000:01:00.0, compute capability: 8.9\"\n",
       " xla_global_id: 416903419]"
      ]
     },
     "metadata": {},
     "output_type": "display_data"
    },
    {
     "name": "stderr",
     "output_type": "stream",
     "text": [
      "2024-02-05 23:21:53.740248: I external/local_xla/xla/stream_executor/cuda/cuda_executor.cc:887] could not open file to read NUMA node: /sys/bus/pci/devices/0000:01:00.0/numa_node\n",
      "Your kernel may have been built without NUMA support.\n",
      "2024-02-05 23:21:53.740288: I external/local_xla/xla/stream_executor/cuda/cuda_executor.cc:887] could not open file to read NUMA node: /sys/bus/pci/devices/0000:01:00.0/numa_node\n",
      "Your kernel may have been built without NUMA support.\n",
      "2024-02-05 23:21:53.740297: I external/local_xla/xla/stream_executor/cuda/cuda_executor.cc:887] could not open file to read NUMA node: /sys/bus/pci/devices/0000:01:00.0/numa_node\n",
      "Your kernel may have been built without NUMA support.\n"
     ]
    },
    {
     "data": {
      "text/plain": [
       "[PhysicalDevice(name='/physical_device:GPU:0', device_type='GPU')]"
      ]
     },
     "metadata": {},
     "output_type": "display_data"
    }
   ],
   "source": [
    "print(tf.__version__)\n",
    "\n",
    "display(device_lib.list_local_devices())\n",
    "display(tf.config.list_physical_devices(\"GPU\"))"
   ]
  },
  {
   "cell_type": "markdown",
   "id": "3abacbc5",
   "metadata": {},
   "source": [
    "### MNISTデータの読み込み\n",
    "MNIST手書き数字データを読み込みます。"
   ]
  },
  {
   "cell_type": "code",
   "execution_count": 5,
   "id": "2f420b17-b7c7-4d79-9a75-e86cb8fd4a1c",
   "metadata": {},
   "outputs": [],
   "source": [
    "mnist = datasets.mnist\n",
    "(train_images, train_labels), (test_images, test_labels) = mnist.load_data()\n",
    "# display(type(train_images), type(train_labels), type(test_images), type(test_labels))"
   ]
  },
  {
   "cell_type": "code",
   "execution_count": 6,
   "id": "2006a9eb",
   "metadata": {},
   "outputs": [
    {
     "data": {
      "text/plain": [
       "(60000, 28, 28)"
      ]
     },
     "metadata": {},
     "output_type": "display_data"
    },
    {
     "data": {
      "text/plain": [
       "(60000,)"
      ]
     },
     "metadata": {},
     "output_type": "display_data"
    },
    {
     "data": {
      "text/plain": [
       "(10000, 28, 28)"
      ]
     },
     "metadata": {},
     "output_type": "display_data"
    },
    {
     "data": {
      "text/plain": [
       "(10000,)"
      ]
     },
     "metadata": {},
     "output_type": "display_data"
    }
   ],
   "source": [
    "display(train_images.shape, train_labels.shape, test_images.shape, test_labels.shape)\n",
    "\n",
    "# 畳み込み層に入力するためにデータを変形\n",
    "# 28x28 の画像が 1 チャンネル（白黒）なので、最後に 1 を追加\n",
    "train_images = train_images.reshape((60000, 28, 28, 1))\n",
    "test_images = test_images.reshape((10000, 28, 28, 1))\n",
    "\n",
    "# ピクセルの値を 0~1 の間に正規化\n",
    "train_images, test_images = train_images / 255.0, test_images / 255.0"
   ]
  },
  {
   "cell_type": "markdown",
   "id": "e32fb658",
   "metadata": {},
   "source": [
    "### モデルの定義\n",
    "全結合層を3層重ねたニューラルネットワークを定義します。中間層の活性化関数はReLU、出力層の活性化関数はSoftmaxです。"
   ]
  },
  {
   "cell_type": "code",
   "execution_count": 7,
   "id": "9a8c7b02-60dd-48ff-964b-dc2643c4a067",
   "metadata": {},
   "outputs": [
    {
     "name": "stderr",
     "output_type": "stream",
     "text": [
      "2024-02-05 23:21:54.133881: I external/local_xla/xla/stream_executor/cuda/cuda_executor.cc:887] could not open file to read NUMA node: /sys/bus/pci/devices/0000:01:00.0/numa_node\n",
      "Your kernel may have been built without NUMA support.\n",
      "2024-02-05 23:21:54.133948: I external/local_xla/xla/stream_executor/cuda/cuda_executor.cc:887] could not open file to read NUMA node: /sys/bus/pci/devices/0000:01:00.0/numa_node\n",
      "Your kernel may have been built without NUMA support.\n",
      "2024-02-05 23:21:54.133961: I external/local_xla/xla/stream_executor/cuda/cuda_executor.cc:887] could not open file to read NUMA node: /sys/bus/pci/devices/0000:01:00.0/numa_node\n",
      "Your kernel may have been built without NUMA support.\n",
      "2024-02-05 23:21:54.134130: I external/local_xla/xla/stream_executor/cuda/cuda_executor.cc:887] could not open file to read NUMA node: /sys/bus/pci/devices/0000:01:00.0/numa_node\n",
      "Your kernel may have been built without NUMA support.\n",
      "2024-02-05 23:21:54.134144: I tensorflow/core/common_runtime/gpu/gpu_device.cc:2022] Could not identify NUMA node of platform GPU id 0, defaulting to 0.  Your kernel may not have been built with NUMA support.\n",
      "2024-02-05 23:21:54.134161: I external/local_xla/xla/stream_executor/cuda/cuda_executor.cc:887] could not open file to read NUMA node: /sys/bus/pci/devices/0000:01:00.0/numa_node\n",
      "Your kernel may have been built without NUMA support.\n",
      "2024-02-05 23:21:54.134173: I tensorflow/core/common_runtime/gpu/gpu_device.cc:1929] Created device /job:localhost/replica:0/task:0/device:GPU:0 with 13703 MB memory:  -> device: 0, name: NVIDIA GeForce RTX 4060 Ti, pci bus id: 0000:01:00.0, compute capability: 8.9\n"
     ]
    }
   ],
   "source": [
    "# model = models.Sequential([\n",
    "#     layers.Conv2D(32, (3, 3), activation='relu', input_shape=(28, 28, 1)),\n",
    "#     layers.MaxPooling2D((2, 2)),\n",
    "#     layers.Conv2D(64, (3, 3), activation='relu'),\n",
    "#     layers.MaxPooling2D((2, 2)),\n",
    "#     layers.Conv2D(64, (3, 3), activation='relu'),\n",
    "#     layers.Flatten(),\n",
    "#     layers.Dense(64, activation='relu'),\n",
    "#     layers.Dense(10, activation='softmax')\n",
    "# ])\n",
    "model = models.Sequential([\n",
    "    layers.Conv2D(32, (3, 3), activation='relu', input_shape=(28, 28, 1)),\n",
    "    layers.Flatten(),\n",
    "    layers.Dense(10, activation='softmax')\n",
    "])"
   ]
  },
  {
   "cell_type": "code",
   "execution_count": 8,
   "id": "a0d2a451-3fd0-41db-af2a-9a9ad2570a83",
   "metadata": {},
   "outputs": [
    {
     "name": "stdout",
     "output_type": "stream",
     "text": [
      "Model: \"sequential\"\n",
      "_________________________________________________________________\n",
      " Layer (type)                Output Shape              Param #   \n",
      "=================================================================\n",
      " conv2d (Conv2D)             (None, 26, 26, 32)        320       \n",
      "                                                                 \n",
      " flatten (Flatten)           (None, 21632)             0         \n",
      "                                                                 \n",
      " dense (Dense)               (None, 10)                216330    \n",
      "                                                                 \n",
      "=================================================================\n",
      "Total params: 216650 (846.29 KB)\n",
      "Trainable params: 216650 (846.29 KB)\n",
      "Non-trainable params: 0 (0.00 Byte)\n",
      "_________________________________________________________________\n"
     ]
    }
   ],
   "source": [
    "optimizer = tf.keras.optimizers.Adam(learning_rate=0.001)\n",
    "# optimizer = tf.keras.optimizers.SGD(learning_rate=0.01)\n",
    "loss = losses.SparseCategoricalCrossentropy(from_logits=True)\n",
    "model.compile(optimizer=optimizer,\n",
    "              loss=loss,\n",
    "              metrics=['accuracy'])\n",
    "model.summary()"
   ]
  },
  {
   "cell_type": "markdown",
   "id": "c47f43a9",
   "metadata": {},
   "source": [
    "### 学習"
   ]
  },
  {
   "cell_type": "code",
   "execution_count": 9,
   "id": "af43010a-86ac-4527-b31f-30589e7d6466",
   "metadata": {},
   "outputs": [
    {
     "name": "stdout",
     "output_type": "stream",
     "text": [
      "Epoch 1/5\n"
     ]
    },
    {
     "name": "stderr",
     "output_type": "stream",
     "text": [
      "/home/sonoda/GitHub/investment-study/.tf/lib/python3.10/site-packages/keras/src/backend.py:5727: UserWarning: \"`sparse_categorical_crossentropy` received `from_logits=True`, but the `output` argument was produced by a Softmax activation and thus does not represent logits. Was this intended?\n",
      "  output, from_logits = _get_logits(\n",
      "2024-02-05 23:21:55.732783: I external/local_xla/xla/stream_executor/cuda/cuda_dnn.cc:454] Loaded cuDNN version 8904\n",
      "2024-02-05 23:21:55.862984: I external/local_tsl/tsl/platform/default/subprocess.cc:304] Start cannot spawn child process: No such file or directory\n",
      "2024-02-05 23:21:56.085247: I external/local_xla/xla/service/service.cc:168] XLA service 0x7f8adc817070 initialized for platform CUDA (this does not guarantee that XLA will be used). Devices:\n",
      "2024-02-05 23:21:56.085274: I external/local_xla/xla/service/service.cc:176]   StreamExecutor device (0): NVIDIA GeForce RTX 4060 Ti, Compute Capability 8.9\n",
      "2024-02-05 23:21:56.089477: I tensorflow/compiler/mlir/tensorflow/utils/dump_mlir_util.cc:269] disabling MLIR crash reproducer, set env var `MLIR_CRASH_REPRODUCER_DIRECTORY` to enable.\n",
      "2024-02-05 23:21:56.126442: I external/local_tsl/tsl/platform/default/subprocess.cc:304] Start cannot spawn child process: No such file or directory\n",
      "WARNING: All log messages before absl::InitializeLog() is called are written to STDERR\n",
      "I0000 00:00:1707142916.159074   26954 device_compiler.h:186] Compiled cluster using XLA!  This line is logged at most once for the lifetime of the process.\n"
     ]
    },
    {
     "name": "stdout",
     "output_type": "stream",
     "text": [
      "30/30 [==============================] - 2s 20ms/step - loss: 0.9477 - accuracy: 0.7828\n",
      "Epoch 2/5\n",
      "30/30 [==============================] - 0s 13ms/step - loss: 0.3131 - accuracy: 0.9090\n",
      "Epoch 3/5\n",
      "30/30 [==============================] - 0s 13ms/step - loss: 0.2399 - accuracy: 0.9319\n",
      "Epoch 4/5\n",
      "30/30 [==============================] - 0s 13ms/step - loss: 0.1951 - accuracy: 0.9453\n",
      "Epoch 5/5\n",
      "30/30 [==============================] - 0s 13ms/step - loss: 0.1628 - accuracy: 0.9550\n"
     ]
    },
    {
     "data": {
      "text/plain": [
       "<keras.src.callbacks.History at 0x7f8c647e0cd0>"
      ]
     },
     "execution_count": 9,
     "metadata": {},
     "output_type": "execute_result"
    }
   ],
   "source": [
    "model.fit(train_images, train_labels, epochs=5, batch_size=2048)"
   ]
  },
  {
   "cell_type": "markdown",
   "id": "0c55cb3d",
   "metadata": {},
   "source": [
    "### テストデータで評価\n",
    "訓練データの精度はあくまで参考値です。未知のデータに対する精度を確認するために、テストデータで評価します。"
   ]
  },
  {
   "cell_type": "code",
   "execution_count": 10,
   "id": "73978cc3",
   "metadata": {},
   "outputs": [
    {
     "name": "stdout",
     "output_type": "stream",
     "text": [
      "313/313 - 1s - loss: 0.1461 - accuracy: 0.9593 - 501ms/epoch - 2ms/step\n",
      "\n",
      "Test accuracy: 0.9592999815940857\n"
     ]
    }
   ],
   "source": [
    "test_loss, test_acc = model.evaluate(test_images, test_labels, verbose=2)\n",
    "print('\\nTest accuracy:', test_acc)"
   ]
  },
  {
   "cell_type": "markdown",
   "id": "64da01c5",
   "metadata": {},
   "source": [
    "### データごとに正解・不正解を表示"
   ]
  },
  {
   "cell_type": "code",
   "execution_count": 11,
   "id": "d5ba9982",
   "metadata": {},
   "outputs": [],
   "source": [
    "def plot_image(ax, i, predictions_array, true_label, img):\n",
    "    \"\"\"\n",
    "    画像を表示する。\n",
    "\n",
    "    Args:\n",
    "        ax (matplotlib.axes.Axes): 表示するAxes\n",
    "        i (int): 表示する画像のインデックス\n",
    "        predictions_array (np.ndarray): 予測結果\n",
    "        true_label (np.ndarray): 正解ラベル\n",
    "        img (np.ndarray): 画像\n",
    "    \"\"\"\n",
    "    true_label, img = true_label[i], img[i]\n",
    "    ax.imshow(img, cmap=plt.cm.binary)\n",
    "    ax.grid(False)\n",
    "    ax.set_xticks([])\n",
    "    ax.set_yticks([])\n",
    "\n",
    "    predicted_label = np.argmax(predictions_array)\n",
    "\n",
    "    if predicted_label == true_label:\n",
    "        color = 'blue'\n",
    "    else:\n",
    "        color = 'red'\n",
    "\n",
    "    ax.set_xlabel(f\"{predicted_label} {100*np.max(predictions_array):2.0f}% ({true_label})\", color=color)\n",
    "\n",
    "def plot_value_array(ax, i, predictions_array, true_label):\n",
    "    true_label = true_label[i]\n",
    "    ax.grid(False)\n",
    "    ax.set_xticks(range(10))\n",
    "    ax.set_yticks([])\n",
    "    \n",
    "    thisplot = ax.bar(range(10), predictions_array, color=\"#777777\")\n",
    "    ax.set_ylim([0, 1])\n",
    "    predicted_label = np.argmax(predictions_array)\n",
    "\n",
    "    thisplot[predicted_label].set_color('red')\n",
    "    thisplot[true_label].set_color('blue')"
   ]
  },
  {
   "cell_type": "code",
   "execution_count": 12,
   "id": "c368fb30",
   "metadata": {},
   "outputs": [
    {
     "name": "stdout",
     "output_type": "stream",
     "text": [
      "313/313 [==============================] - 0s 775us/step\n"
     ]
    },
    {
     "data": {
      "image/png": "[encoded data removed]",
      "text/plain": [
       "<Figure size 1200x1000 with 30 Axes>"
      ]
     },
     "metadata": {},
     "output_type": "display_data"
    }
   ],
   "source": [
    "predictions = model.predict(test_images)\n",
    "num_rows = 5\n",
    "num_cols = 3\n",
    "num_images = num_rows * num_cols\n",
    "random_indices = np.random.choice(len(test_images), num_images, replace=False)\n",
    "\n",
    "fig, axes = plt.subplots(num_rows, 2*num_cols, figsize=(2*2*num_cols, 2*num_rows))\n",
    "\n",
    "for i, idx in enumerate(random_indices):\n",
    "    # idx = i\n",
    "    plot_image(axes[i//num_cols, 2*(i%num_cols)], idx, predictions[idx], test_labels, test_images)\n",
    "    plot_value_array(axes[i//num_cols, 2*(i%num_cols) + 1], idx, predictions[idx], test_labels)\n",
    "\n",
    "fig.tight_layout()\n",
    "plt.show()"
   ]
  },
  {
   "cell_type": "markdown",
   "id": "12c41e5d",
   "metadata": {},
   "source": [
    "### NumPyだけで実装してみる"
   ]
  },
  {
   "cell_type": "code",
   "execution_count": 13,
   "id": "cb8e7bb7",
   "metadata": {},
   "outputs": [],
   "source": [
    "class LayerBase:\n",
    "    \"\"\"\n",
    "    レイヤーの基底クラス。\n",
    "    \"\"\"\n",
    "    def __init__(self):\n",
    "        pass\n",
    "\n",
    "    def forward(self, X):\n",
    "        \"\"\"\n",
    "        順伝播。\n",
    "\n",
    "        Args:\n",
    "            X (np.ndarray): 入力。\n",
    "\n",
    "        Returns:\n",
    "            np.ndarray: 出力。\n",
    "        \"\"\"\n",
    "        raise NotImplementedError()\n",
    "\n",
    "    def backward(self, d_A):\n",
    "        \"\"\"\n",
    "        逆伝播。\n",
    "\n",
    "        Args:\n",
    "            d_A (np.ndarray): 出力の勾配。\n",
    "\n",
    "        Returns:\n",
    "            tuple: 入力やパラメータの勾配。\n",
    "        \"\"\"\n",
    "        raise NotImplementedError()"
   ]
  },
  {
   "cell_type": "markdown",
   "id": "2428f289",
   "metadata": {},
   "source": [
    "### ReLU"
   ]
  },
  {
   "cell_type": "code",
   "execution_count": 14,
   "id": "17963ed6",
   "metadata": {},
   "outputs": [],
   "source": [
    "class ReLU(LayerBase):\n",
    "    \"\"\"\n",
    "    ReLU レイヤー。\n",
    "    \"\"\"\n",
    "    def __init__(self):\n",
    "        self.mask = None # ノードが発火したかどうかのフラグ\n",
    "        \n",
    "    def forward(self, X):\n",
    "        \"\"\"\n",
    "        順伝播。\n",
    "\n",
    "        Args:\n",
    "            X (np.ndarray): 入力。\n",
    "\n",
    "        Returns:\n",
    "            np.ndarray: 出力。\n",
    "        \"\"\"\n",
    "        self.mask = (X <= 0) # マスクを保存\n",
    "        Z = X.copy()\n",
    "        Z[self.mask] = 0\n",
    "        return Z\n",
    "\n",
    "    def backward(self, d_A):\n",
    "        \"\"\"\n",
    "        逆伝播。\n",
    "\n",
    "        Args:\n",
    "            d_A (np.ndarray): 出力の勾配。\n",
    "\n",
    "        Returns:\n",
    "            np.ndarray: 入力の勾配。\n",
    "        \"\"\"\n",
    "        d_A[self.mask] = 0\n",
    "        return d_A"
   ]
  },
  {
   "cell_type": "markdown",
   "id": "733cb53c",
   "metadata": {},
   "source": [
    "### 畳み込み層"
   ]
  },
  {
   "cell_type": "code",
   "execution_count": 15,
   "id": "a2ff0c1f",
   "metadata": {},
   "outputs": [],
   "source": [
    "class Convolution2D(LayerBase):\n",
    "    \"\"\"\n",
    "    2D 畳み込み層。NumPy で実装する。\n",
    "    \"\"\"\n",
    "    def __init__(self, input_shape, kernel_size, depth, stride=1, activation: LayerBase=None):\n",
    "        \"\"\"\n",
    "        畳み込み層の初期化。\n",
    "\n",
    "        Args:\n",
    "            input_shape (tuple): 入力の形状 (height, width, channels)\n",
    "            kernel_size (int): カーネルのサイズ\n",
    "            depth (int): カーネルの数\n",
    "            stride (int): ストライド\n",
    "            activation (LayerBase): 活性化関数\n",
    "        \"\"\"\n",
    "        self.input_shape = input_shape\n",
    "        self.kernel_size = kernel_size\n",
    "        self.depth = depth\n",
    "        self.stride = stride\n",
    "        self.kernels = np.random.randn(depth, kernel_size, kernel_size, input_shape[2]) * 0.1\n",
    "        self.biases = np.zeros(depth)\n",
    "        self.input_data = None # 順伝播時の入力を保持\n",
    "        self.grad_kernels = None # 逆伝播時のカーネルの勾配を保持\n",
    "        self.grad_biases = None # 逆伝播時のバイアスの勾配を保持\n",
    "        self.activation = activation # 活性化関数\n",
    "        self.initialize_optimizer_params()\n",
    "    \n",
    "    def initialize_optimizer_params(self):\n",
    "        \"\"\"\n",
    "        Adamオプティマイザのパラメータを初期化。\n",
    "        \"\"\"\n",
    "        self.m_kernels = np.zeros_like(self.kernels)\n",
    "        self.v_kernels = np.zeros_like(self.kernels)\n",
    "        self.m_biases = np.zeros_like(self.biases)\n",
    "        self.v_biases = np.zeros_like(self.biases)\n",
    "        self.t = 0 # タイムステップ\n",
    "\n",
    "    def forward(self, X):\n",
    "        \"\"\"\n",
    "        順伝播。\n",
    "\n",
    "        Args:\n",
    "            X (np.ndarray): 入力データ (batch_size, height, width, channels)\n",
    "        \n",
    "        Returns:\n",
    "            np.ndarray: 出力データ (batch_size, A_height, A_width, depth)\n",
    "        \"\"\"\n",
    "        batch_size, height, width, _ = X.shape\n",
    "        A_height = (height - self.kernel_size) // self.stride + 1\n",
    "        A_width = (width - self.kernel_size) // self.stride + 1\n",
    "\n",
    "        # 出力特徴量マップの初期化\n",
    "        A = np.zeros((batch_size, A_height, A_width, self.depth))\n",
    "\n",
    "        # 畳み込み演算\n",
    "        for i in range(A_height):\n",
    "            for j in range(A_width):\n",
    "                h_start = i * self.stride\n",
    "                w_start = j * self.stride\n",
    "                # カーネルを適用するパッチ (カーネルと同じ形状の入力の一部分) を取得\n",
    "                patch = X[:, h_start:h_start+self.kernel_size, w_start:w_start+self.kernel_size, :]\n",
    "                # 縦軸、横軸、チャネルごとにかけて足し合わせる\n",
    "                A[:, i, j, :] = np.tensordot(patch, self.kernels, axes=([1, 2, 3], [1, 2, 3]))\n",
    "                # # 出力のチャネルごとに畳み込み演算\n",
    "                # for k in range(self.depth):\n",
    "                #     # パッチとカーネルのアダマール積を取り、その和を出力の対応する位置に格納\n",
    "                #     A[:, i, j, k] = np.sum(patch * self.kernels[k, :, :, :], axis=(1, 2, 3))\n",
    "        \n",
    "        # バイアスの加算\n",
    "        A += self.biases[np.newaxis, np.newaxis, np.newaxis, :]\n",
    "\n",
    "        # 活性化関数の適用\n",
    "        if self.activation is not None:\n",
    "            A = self.activation.forward(A)\n",
    "\n",
    "        # 入力データを保存\n",
    "        self.input_data = X\n",
    "\n",
    "        return A\n",
    "    \n",
    "    def backward(self, d_A):\n",
    "        \"\"\"\n",
    "        逆伝播。\n",
    "\n",
    "        Args:\n",
    "            d_A (np.ndarray): 出力の勾配 (batch_size, A_height, A_width, depth)\n",
    "\n",
    "        Returns:\n",
    "            np.ndarray: 入力の勾配 (batch_size, height, width, channels)\n",
    "        \"\"\"\n",
    "        # 保存した入力データを使用\n",
    "        X = self.input_data\n",
    "\n",
    "        _, height, width, _ = X.shape\n",
    "        A_height = (height - self.kernel_size) // self.stride + 1\n",
    "        A_width = (width - self.kernel_size) // self.stride + 1\n",
    "\n",
    "        # 入力の勾配の初期化\n",
    "        d_X = np.zeros(X.shape)\n",
    "        d_kernels = np.zeros_like(self.kernels)\n",
    "        d_biases = np.zeros_like(self.biases)\n",
    "\n",
    "        # 活性化関数の逆伝播\n",
    "        if self.activation is not None:\n",
    "            d_A = self.activation.backward(d_A)\n",
    "\n",
    "        # 勾配の計算\n",
    "        for i in range(A_height):\n",
    "            for j in range(A_width):\n",
    "                h_start = i * self.stride\n",
    "                w_start = j * self.stride\n",
    "                # カーネルを適用するパッチ (カーネルと同じ形状の入力の一部分) を取得\n",
    "                patch = X[:, h_start:h_start+self.kernel_size, w_start:w_start+self.kernel_size, :]\n",
    "                # バッチ軸に沿って、パッチと出力の勾配をかけて足し合わせる\n",
    "                d_kernels_temp = np.tensordot(patch, d_A[:, i, j, :], axes=([0], [0])) # (kernel_size, kernel_size, depth, batch_size)\n",
    "                d_kernels_temp = np.moveaxis(d_kernels_temp, -1, 0) # (batch_size, kernel_size, kernel_size, depth)\n",
    "                # これをすべてのi, j（出力の行と列）について足し合わせる\n",
    "                d_kernels += d_kernels_temp\n",
    "                # バイアスの勾配を計算して加算\n",
    "                d_biases += np.sum(d_A[:, i, j, :], axis=0)\n",
    "                # 出力チャネルの軸に沿って、カーネルと出力の勾配をかけて足し合わせる\n",
    "                d_X_temp = np.tensordot(self.kernels, d_A[:, i, j, :], axes=([0], [1])) # (kernel_size, kernel_size, channels, batch_size)\n",
    "                d_X_temp = np.moveaxis(d_X_temp, -1, 0) # (batch_size, kernel_size, kernel_size, channels)\n",
    "                # これをすべてのi, j（出力の行と列）について、入力の適切な場所に足し合わせる\n",
    "                d_X[:, h_start:h_start+self.kernel_size, w_start:w_start+self.kernel_size, :] += d_X_temp\n",
    "                # # 出力のチャネルごとに勾配を計算して加算\n",
    "                # for k in range(self.depth):\n",
    "                #     d_kernels[k, :, :, :] += np.sum(patch * (d_A[:, i:i+1, j:j+1, k:k+1]), axis=0)\n",
    "                #     d_biases[k] += np.sum(d_A[:, i, j, k])\n",
    "                #     d_X[:, h_start:h_start+self.kernel_size, w_start:w_start+self.kernel_size, :] += self.kernels[k, :, :, :] * (d_A[:, i:i+1, j:j+1, k:k+1])\n",
    "        \n",
    "        # パラメータの勾配を保存\n",
    "        self.grad_kernels = d_kernels\n",
    "        self.grad_biases = d_biases\n",
    "        \n",
    "        return d_X\n",
    "    \n",
    "    def update_params(self, learning_rate=0.001, beta1=0.9, beta2=0.999, epsilon=1e-8):\n",
    "        \"\"\"\n",
    "        パラメータの更新。\n",
    "\n",
    "        Args:\n",
    "            learning_rate (float): 学習率\n",
    "            beta1 (float): 一階モーメントの減衰率\n",
    "            beta2 (float): 二階モーメントの減衰率\n",
    "            epsilon (float): 数値安定化のための微小値\n",
    "        \"\"\"\n",
    "        self.t += 1\n",
    "        \n",
    "        self.m_kernels = beta1 * self.m_kernels + (1 - beta1) * self.grad_kernels\n",
    "        self.v_kernels = beta2 * self.v_kernels + (1 - beta2) * np.square(self.grad_kernels)\n",
    "        self.m_biases = beta1 * self.m_biases + (1 - beta1) * self.grad_biases\n",
    "        self.v_biases = beta2 * self.v_biases + (1 - beta2) * np.square(self.grad_biases)\n",
    "\n",
    "        m_kernels_corrected = self.m_kernels / (1 - beta1 ** self.t)\n",
    "        v_kernels_corrected = self.v_kernels / (1 - beta2 ** self.t)\n",
    "        m_biases_corrected = self.m_biases / (1 - beta1 ** self.t)\n",
    "        v_biases_corrected = self.v_biases / (1 - beta2 ** self.t)\n",
    "\n",
    "        self.kernels -= learning_rate * m_kernels_corrected / (np.sqrt(v_kernels_corrected) + epsilon)\n",
    "        self.biases -= learning_rate * m_biases_corrected / (np.sqrt(v_biases_corrected) + epsilon)\n"
   ]
  },
  {
   "cell_type": "code",
   "execution_count": 16,
   "id": "9082dfbe",
   "metadata": {},
   "outputs": [
    {
     "data": {
      "text/plain": [
       "(10, 28, 28, 1)"
      ]
     },
     "metadata": {},
     "output_type": "display_data"
    },
    {
     "data": {
      "text/plain": [
       "(10, 26, 26, 32)"
      ]
     },
     "metadata": {},
     "output_type": "display_data"
    },
    {
     "data": {
      "text/plain": [
       "(10, 28, 28, 1)"
      ]
     },
     "metadata": {},
     "output_type": "display_data"
    }
   ],
   "source": [
    "# 簡易的な動作チェック\n",
    "input_sample = train_images[:10]\n",
    "# input_sample = np.arange(28*28*3*10).reshape(10, 28, 28, 3)\n",
    "display(input_sample.shape)\n",
    "input_shape = (input_sample.shape[1], input_sample.shape[2], input_sample.shape[3])\n",
    "conv_layer = Convolution2D(input_shape=input_shape, kernel_size=3, depth=32, stride=1, activation=ReLU())\n",
    "output_sample = conv_layer.forward(input_sample)\n",
    "display(output_sample.shape)\n",
    "d_A_sample = np.random.randn(*output_sample.shape)\n",
    "d_X_sample = conv_layer.backward(d_A_sample)\n",
    "display(d_X_sample.shape)\n",
    "conv_layer.update_params()"
   ]
  },
  {
   "cell_type": "markdown",
   "id": "f54ca2cd",
   "metadata": {},
   "source": [
    "### np.tensordot()の使用例\n",
    "非常にややこしいです。"
   ]
  },
  {
   "cell_type": "code",
   "execution_count": 17,
   "id": "fb10f4a7",
   "metadata": {},
   "outputs": [
    {
     "name": "stdout",
     "output_type": "stream",
     "text": [
      "patch=\n",
      "[[[[ 0  1]\n",
      "   [ 2  3]\n",
      "   [ 4  5]]\n",
      "\n",
      "  [[ 6  7]\n",
      "   [ 8  9]\n",
      "   [10 11]]\n",
      "\n",
      "  [[12 13]\n",
      "   [14 15]\n",
      "   [16 17]]]\n",
      "\n",
      "\n",
      " [[[18 19]\n",
      "   [20 21]\n",
      "   [22 23]]\n",
      "\n",
      "  [[24 25]\n",
      "   [26 27]\n",
      "   [28 29]]\n",
      "\n",
      "  [[30 31]\n",
      "   [32 33]\n",
      "   [34 35]]]]\n",
      "kernels=\n",
      "[[[[ 0  1]\n",
      "   [ 2  3]\n",
      "   [ 4  5]]\n",
      "\n",
      "  [[ 6  7]\n",
      "   [ 8  9]\n",
      "   [10 11]]\n",
      "\n",
      "  [[12 13]\n",
      "   [14 15]\n",
      "   [16 17]]]\n",
      "\n",
      "\n",
      " [[[18 19]\n",
      "   [20 21]\n",
      "   [22 23]]\n",
      "\n",
      "  [[24 25]\n",
      "   [26 27]\n",
      "   [28 29]]\n",
      "\n",
      "  [[30 31]\n",
      "   [32 33]\n",
      "   [34 35]]]]\n",
      "output=\n",
      "[[[[ 1785  4539]]]\n",
      "\n",
      "\n",
      " [[[ 4539 13125]]]]\n"
     ]
    }
   ],
   "source": [
    "# tensordot演算とは？\n",
    "BATCH_SIZE = 2\n",
    "kernel_size = 3\n",
    "channels = 2\n",
    "depth = 2\n",
    "\n",
    "patch = np.arange(BATCH_SIZE * kernel_size * kernel_size * channels).reshape(BATCH_SIZE, kernel_size, kernel_size, channels) # (batch_size, kernel_size, kernel_size, channels)\n",
    "kernels = np.arange(depth * kernel_size * kernel_size * channels).reshape(depth, kernel_size, kernel_size, channels) # (depth, kernel_size, kernel_size, channels)\n",
    "\n",
    "# tensordot演算\n",
    "# patch の (1, 2, 3) 軸と kernels の (1, 2, 3) 軸をかけて足し合わせる\n",
    "output = np.tensordot(patch, kernels, axes=([1, 2, 3], [1, 2, 3])).reshape(BATCH_SIZE, 1, 1, depth)\n",
    "\n",
    "print(f\"patch=\\n{patch}\\nkernels=\\n{kernels}\\noutput=\\n{output}\")"
   ]
  },
  {
   "cell_type": "code",
   "execution_count": 18,
   "id": "ae80dc5a",
   "metadata": {},
   "outputs": [
    {
     "name": "stdout",
     "output_type": "stream",
     "text": [
      "patch[0]=\n",
      "[[[ 0  1]\n",
      "  [ 2  3]\n",
      "  [ 4  5]]\n",
      "\n",
      " [[ 6  7]\n",
      "  [ 8  9]\n",
      "  [10 11]]\n",
      "\n",
      " [[12 13]\n",
      "  [14 15]\n",
      "  [16 17]]]\n",
      "kernels[0]=\n",
      "[[[ 0  1]\n",
      "  [ 2  3]\n",
      "  [ 4  5]]\n",
      "\n",
      " [[ 6  7]\n",
      "  [ 8  9]\n",
      "  [10 11]]\n",
      "\n",
      " [[12 13]\n",
      "  [14 15]\n",
      "  [16 17]]]\n",
      "patch[0]=\n",
      "[[[ 0  1]\n",
      "  [ 2  3]\n",
      "  [ 4  5]]\n",
      "\n",
      " [[ 6  7]\n",
      "  [ 8  9]\n",
      "  [10 11]]\n",
      "\n",
      " [[12 13]\n",
      "  [14 15]\n",
      "  [16 17]]]\n",
      "kernels[1]=\n",
      "[[[18 19]\n",
      "  [20 21]\n",
      "  [22 23]]\n",
      "\n",
      " [[24 25]\n",
      "  [26 27]\n",
      "  [28 29]]\n",
      "\n",
      " [[30 31]\n",
      "  [32 33]\n",
      "  [34 35]]]\n",
      "patch[1]=\n",
      "[[[18 19]\n",
      "  [20 21]\n",
      "  [22 23]]\n",
      "\n",
      " [[24 25]\n",
      "  [26 27]\n",
      "  [28 29]]\n",
      "\n",
      " [[30 31]\n",
      "  [32 33]\n",
      "  [34 35]]]\n",
      "kernels[0]=\n",
      "[[[ 0  1]\n",
      "  [ 2  3]\n",
      "  [ 4  5]]\n",
      "\n",
      " [[ 6  7]\n",
      "  [ 8  9]\n",
      "  [10 11]]\n",
      "\n",
      " [[12 13]\n",
      "  [14 15]\n",
      "  [16 17]]]\n",
      "patch[1]=\n",
      "[[[18 19]\n",
      "  [20 21]\n",
      "  [22 23]]\n",
      "\n",
      " [[24 25]\n",
      "  [26 27]\n",
      "  [28 29]]\n",
      "\n",
      " [[30 31]\n",
      "  [32 33]\n",
      "  [34 35]]]\n",
      "kernels[1]=\n",
      "[[[18 19]\n",
      "  [20 21]\n",
      "  [22 23]]\n",
      "\n",
      " [[24 25]\n",
      "  [26 27]\n",
      "  [28 29]]\n",
      "\n",
      " [[30 31]\n",
      "  [32 33]\n",
      "  [34 35]]]\n",
      "output=\n",
      "[[[[ 1785.  4539.]]]\n",
      "\n",
      "\n",
      " [[[ 4539. 13125.]]]]\n"
     ]
    }
   ],
   "source": [
    "# tensordot演算の結果をfor文で再現\n",
    "output = np.zeros((BATCH_SIZE, 1, 1, depth))\n",
    "for i in range(BATCH_SIZE):\n",
    "    for j in range(depth):\n",
    "        print(f\"patch[{i}]=\\n{patch[i]}\\nkernels[{j}]=\\n{kernels[j]}\")\n",
    "        output[i, 0, 0, j] = np.sum(patch[i] * kernels[j])\n",
    "\n",
    "print(f\"output=\\n{output}\")"
   ]
  },
  {
   "cell_type": "code",
   "execution_count": 19,
   "id": "74eff36b",
   "metadata": {},
   "outputs": [
    {
     "name": "stdout",
     "output_type": "stream",
     "text": [
      "d_A_element=\n",
      "[[0 1]\n",
      " [2 3]]\n",
      "d_kernels=\n",
      "[[[[ 36  38]\n",
      "   [ 40  42]\n",
      "   [ 44  46]]\n",
      "\n",
      "  [[ 48  50]\n",
      "   [ 52  54]\n",
      "   [ 56  58]]\n",
      "\n",
      "  [[ 60  62]\n",
      "   [ 64  66]\n",
      "   [ 68  70]]]\n",
      "\n",
      "\n",
      " [[[ 54  58]\n",
      "   [ 62  66]\n",
      "   [ 70  74]]\n",
      "\n",
      "  [[ 78  82]\n",
      "   [ 86  90]\n",
      "   [ 94  98]]\n",
      "\n",
      "  [[102 106]\n",
      "   [110 114]\n",
      "   [118 122]]]]\n"
     ]
    }
   ],
   "source": [
    "# 逆伝播での tensordot 演算\n",
    "d_A_element = np.arange(BATCH_SIZE * depth).reshape(BATCH_SIZE, depth) # (batch_size, depth)\n",
    "\n",
    "# tensordot演算\n",
    "# patch の (0) 軸と d_A_element の (1) 軸をかけて足し合わせる\n",
    "d_kernels = np.tensordot(patch, d_A_element, axes=([0], [0]))\n",
    "d_kernels = np.moveaxis(d_kernels, -1, 0)\n",
    "print(f\"d_A_element=\\n{d_A_element}\\nd_kernels=\\n{d_kernels}\")"
   ]
  },
  {
   "cell_type": "markdown",
   "id": "ce1a0acd",
   "metadata": {},
   "source": [
    "### マックスプーリング層"
   ]
  },
  {
   "cell_type": "code",
   "execution_count": 20,
   "id": "76d4ba1d",
   "metadata": {},
   "outputs": [],
   "source": [
    "class MaxPooling2D(LayerBase):\n",
    "    \"\"\"\n",
    "    2D マックスプーリング層。NumPy で実装する。\n",
    "    \"\"\"\n",
    "    def __init__(self, pool_size, stride):\n",
    "        \"\"\"\n",
    "        マックスプーリング層の初期化。\n",
    "\n",
    "        Args:\n",
    "            pool_size (int): プーリングのサイズ\n",
    "            stride (int): ストライド\n",
    "        \"\"\"\n",
    "        self.pool_size = pool_size\n",
    "        self.stride = stride\n",
    "        self.input_data = None # 順伝播時の入力を保持\n",
    "\n",
    "    def forward(self, X):\n",
    "        \"\"\"\n",
    "        順伝播。\n",
    "\n",
    "        Args:\n",
    "            X (np.ndarray): 入力データ (batch_size, height, width, channels)\n",
    "        \n",
    "        Returns:\n",
    "            np.ndarray: 出力データ (batch_size, A_height, A_width, channels)\n",
    "        \"\"\"\n",
    "        batch_size, height, width, channels = X.shape\n",
    "        A_height = (height - self.pool_size) // self.stride + 1\n",
    "        A_width = (width - self.pool_size) // self.stride + 1\n",
    "\n",
    "        # 出力特徴量マップの初期化\n",
    "        A = np.zeros((batch_size, A_height, A_width, channels))\n",
    "\n",
    "        # プーリング演算\n",
    "        for i in range(A_height):\n",
    "            for j in range(A_width):\n",
    "                h_start = i * self.stride\n",
    "                w_start = j * self.stride\n",
    "                # プーリングするパッチを取得\n",
    "                patch = X[:, h_start:h_start+self.pool_size, w_start:w_start+self.pool_size, :]\n",
    "                # チャネルごとに最大値を取得\n",
    "                A[:, i, j, :] = np.max(patch, axis=(1, 2))\n",
    "        \n",
    "        # 入力データを保存\n",
    "        self.input_data = X\n",
    "        \n",
    "        return A\n",
    "    \n",
    "    def backward(self, d_A):\n",
    "        \"\"\"\n",
    "        逆伝播。\n",
    "\n",
    "        Args:\n",
    "            d_A (np.ndarray): 出力の勾配 (batch_size, A_height, A_width, channels)\n",
    "\n",
    "        Returns:\n",
    "            np.ndarray: 入力の勾配\n",
    "        \"\"\"\n",
    "        # 保存した入力データを使用\n",
    "        X = self.input_data\n",
    "        \n",
    "        _, height, width, _ = X.shape\n",
    "        A_height = (height - self.pool_size) // self.stride + 1\n",
    "        A_width = (width - self.pool_size) // self.stride + 1\n",
    "\n",
    "        # 入力の勾配の初期化\n",
    "        d_X = np.zeros(X.shape)\n",
    "\n",
    "        # 勾配の計算\n",
    "        for i in range(A_height):\n",
    "            for j in range(A_width):\n",
    "                h_start = i * self.stride\n",
    "                w_start = j * self.stride\n",
    "                # プーリングするパッチを取得\n",
    "                patch = X[:, h_start:h_start+self.pool_size, w_start:w_start+self.pool_size, :]\n",
    "                max_values = np.max(patch, axis=(1, 2), keepdims=True)\n",
    "                # パッチ内で最大値を取得した場所を取得\n",
    "                mask = patch == max_values\n",
    "                # パッチ内で最大値を取得した場所だけ、出力の勾配を入力の対応する場所に足し合わせる\n",
    "                d_X[:, h_start:h_start+self.pool_size, w_start:w_start+self.pool_size, :] += mask * d_A[:, i:i+1, j:j+1, :]\n",
    "        \n",
    "        return d_X"
   ]
  },
  {
   "cell_type": "code",
   "execution_count": 21,
   "id": "7c7c950a",
   "metadata": {},
   "outputs": [
    {
     "data": {
      "text/plain": [
       "(10, 28, 28, 3)"
      ]
     },
     "metadata": {},
     "output_type": "display_data"
    },
    {
     "data": {
      "text/plain": [
       "(10, 14, 14, 3)"
      ]
     },
     "metadata": {},
     "output_type": "display_data"
    },
    {
     "data": {
      "text/plain": [
       "(10, 28, 28, 3)"
      ]
     },
     "metadata": {},
     "output_type": "display_data"
    }
   ],
   "source": [
    "# 簡易的な動作チェック\n",
    "# input_sample = train_images[:10]\n",
    "input_sample = np.arange(28*28*3*10).reshape(10, 28, 28, 3)\n",
    "display(input_sample.shape)\n",
    "max_pooling_layer = MaxPooling2D(pool_size=2, stride=2)\n",
    "output_sample = max_pooling_layer.forward(input_sample)\n",
    "display(output_sample.shape)\n",
    "d_A_sample = np.random.randn(*output_sample.shape)\n",
    "d_X_sample = max_pooling_layer.backward(d_A_sample)\n",
    "display(d_X_sample.shape)"
   ]
  },
  {
   "cell_type": "markdown",
   "id": "5beced0f",
   "metadata": {},
   "source": [
    "### 平滑化層"
   ]
  },
  {
   "cell_type": "code",
   "execution_count": 22,
   "id": "5ec3e1a3",
   "metadata": {},
   "outputs": [],
   "source": [
    "class Flatten(LayerBase):\n",
    "    \"\"\"\n",
    "    平滑化層。NumPy で実装する。\n",
    "    二次元配列を一次元配列に変換する。\n",
    "    \"\"\"\n",
    "    def __init__(self):\n",
    "        self.input_shape = None # 順伝播時の入力形状を保持\n",
    "\n",
    "    def forward(self, X):\n",
    "        \"\"\"\n",
    "        順伝播。\n",
    "\n",
    "        Args:\n",
    "            X (np.ndarray): 入力データ (batch_size, height, width, channels)\n",
    "        \n",
    "        Returns:\n",
    "            np.ndarray: 出力データ (batch_size, height * width * channels)\n",
    "        \"\"\"\n",
    "        # 入力形状を保存\n",
    "        self.input_shape = X.shape\n",
    "        \n",
    "        return X.reshape(X.shape[0], -1)\n",
    "    \n",
    "    def backward(self, d_A):\n",
    "        \"\"\"\n",
    "        逆伝播。\n",
    "\n",
    "        Args:\n",
    "            d_A (np.ndarray): 出力の勾配 (batch_size, height * width * channels)\n",
    "\n",
    "        Returns:\n",
    "            np.ndarray: 入力の勾配\n",
    "        \"\"\"\n",
    "        return d_A.reshape(self.input_shape)"
   ]
  },
  {
   "cell_type": "code",
   "execution_count": 23,
   "id": "129cf551",
   "metadata": {},
   "outputs": [
    {
     "data": {
      "text/plain": [
       "(10, 28, 28, 1)"
      ]
     },
     "metadata": {},
     "output_type": "display_data"
    },
    {
     "data": {
      "text/plain": [
       "(10, 784)"
      ]
     },
     "metadata": {},
     "output_type": "display_data"
    },
    {
     "data": {
      "text/plain": [
       "(10, 28, 28, 1)"
      ]
     },
     "metadata": {},
     "output_type": "display_data"
    }
   ],
   "source": [
    "# 簡易的な動作チェック\n",
    "input_sample = train_images[:10]\n",
    "# input_sample = np.arange(28*28*3*10).reshape(10, 28, 28, 3)\n",
    "display(input_sample.shape)\n",
    "flatten_layer = Flatten()\n",
    "output_sample = flatten_layer.forward(input_sample)\n",
    "display(output_sample.shape)\n",
    "d_A_sample = np.random.randn(*output_sample.shape)\n",
    "d_X_sample = flatten_layer.backward(d_A_sample)\n",
    "display(d_X_sample.shape)"
   ]
  },
  {
   "cell_type": "markdown",
   "id": "00b09b1f",
   "metadata": {},
   "source": [
    "### 全結合層"
   ]
  },
  {
   "cell_type": "code",
   "execution_count": 24,
   "id": "56d2d405",
   "metadata": {},
   "outputs": [],
   "source": [
    "class Dense(LayerBase):\n",
    "    \"\"\"\n",
    "    全結合層。NumPy で実装する。\n",
    "    \"\"\"\n",
    "    def __init__(self, input_dim, output_dim, activation: LayerBase=None):\n",
    "        \"\"\"\n",
    "        全結合層の初期化。\n",
    "\n",
    "        Args:\n",
    "            input_dim (int): 入力の次元\n",
    "            output_dim (int): 出力の次元\n",
    "            activation (LayerBase): 活性化関数\n",
    "        \"\"\"\n",
    "        self.input_dim = input_dim\n",
    "        self.output_dim = output_dim\n",
    "        self.weights = np.random.randn(input_dim, output_dim) * 0.1\n",
    "        self.biases = np.zeros(output_dim)\n",
    "        self.input_data = None # 順伝播時の入力を保持\n",
    "        self.grad_weights = None # 逆伝播時の重みの勾配を保持\n",
    "        self.grad_biases = None # 逆伝播時のバイアスの勾配を保持\n",
    "        self.activation = activation # 活性化関数\n",
    "        self.initialize_adam_params()\n",
    "    \n",
    "    def initialize_adam_params(self):\n",
    "        \"\"\"\n",
    "        Adamオプティマイザのパラメータを初期化。\n",
    "        \"\"\"\n",
    "        self.m_weights = np.zeros_like(self.weights)\n",
    "        self.v_weights = np.zeros_like(self.weights)\n",
    "        self.m_biases = np.zeros_like(self.biases)\n",
    "        self.v_biases = np.zeros_like(self.biases)\n",
    "        self.t = 0\n",
    "\n",
    "    def forward(self, X):\n",
    "        \"\"\"\n",
    "        順伝播。\n",
    "\n",
    "        Args:\n",
    "            X (np.ndarray): 入力データ (batch_size, input_dim)\n",
    "        \n",
    "        Returns:\n",
    "            np.ndarray: 出力データ (batch_size, output_dim)\n",
    "        \"\"\"\n",
    "        Z = X @ self.weights + self.biases\n",
    "\n",
    "        if self.activation is not None:\n",
    "            A = self.activation.forward(Z)\n",
    "        else:\n",
    "            A = Z\n",
    "\n",
    "        # 入力データを保存\n",
    "        self.input_data = X\n",
    "\n",
    "        return A\n",
    "    \n",
    "    def backward(self, d_A):\n",
    "        \"\"\"\n",
    "        逆伝播。\n",
    "\n",
    "        Args:\n",
    "            d_A (np.ndarray): 出力の勾配 (batch_size, output_dim)\n",
    "\n",
    "        Returns:\n",
    "            np.ndarray: 入力の勾配\n",
    "        \"\"\"\n",
    "        # 保存した入力データを使用\n",
    "        X = self.input_data\n",
    "\n",
    "        if self.activation is not None:\n",
    "            d_A = self.activation.backward(d_A)\n",
    "\n",
    "        d_X = d_A @ self.weights.T\n",
    "        d_weights = X.T @ d_A\n",
    "        d_biases = np.sum(d_A, axis=0)\n",
    "\n",
    "        self.grad_weights = d_weights\n",
    "        self.grad_biases = d_biases\n",
    "        return d_X\n",
    "    \n",
    "    def update_params(self, learning_rate=0.001, beta1=0.9, beta2=0.999, epsilon=1e-8):\n",
    "        \"\"\"\n",
    "        パラメータの更新。\n",
    "\n",
    "        Args:\n",
    "            learning_rate (float): 学習率\n",
    "            beta1 (float): 一階モーメントの減衰率\n",
    "            beta2 (float): 二階モーメントの減衰率\n",
    "            epsilon (float): 数値安定化のための微小値\n",
    "        \"\"\"\n",
    "        # SGD\n",
    "        # self.weights -= learning_rate * self.grad_weights\n",
    "        # self.biases -= learning_rate * self.grad_biases\n",
    "\n",
    "        self.t += 1\n",
    "        self.m_weights = beta1 * self.m_weights + (1 - beta1) * self.grad_weights\n",
    "        self.v_weights = beta2 * self.v_weights + (1 - beta2) * np.square(self.grad_weights)\n",
    "        m_weights_corrected = self.m_weights / (1 - beta1 ** self.t)\n",
    "        v_weights_corrected = self.v_weights / (1 - beta2 ** self.t)\n",
    "        self.weights -= learning_rate * m_weights_corrected / (np.sqrt(v_weights_corrected) + epsilon)\n",
    "\n",
    "        self.m_biases = beta1 * self.m_biases + (1 - beta1) * self.grad_biases\n",
    "        self.v_biases = beta2 * self.v_biases + (1 - beta2) * np.square(self.grad_biases)\n",
    "        m_biases_corrected = self.m_biases / (1 - beta1 ** self.t)\n",
    "        v_biases_corrected = self.v_biases / (1 - beta2 ** self.t)\n",
    "        self.biases -= learning_rate * m_biases_corrected / (np.sqrt(v_biases_corrected) + epsilon)"
   ]
  },
  {
   "cell_type": "code",
   "execution_count": 25,
   "id": "a7255eec",
   "metadata": {},
   "outputs": [
    {
     "data": {
      "text/plain": [
       "(10, 784)"
      ]
     },
     "metadata": {},
     "output_type": "display_data"
    },
    {
     "data": {
      "text/plain": [
       "(10, 5)"
      ]
     },
     "metadata": {},
     "output_type": "display_data"
    },
    {
     "data": {
      "text/plain": [
       "(10, 784)"
      ]
     },
     "metadata": {},
     "output_type": "display_data"
    }
   ],
   "source": [
    "# 簡易的な動作チェック\n",
    "input_sample = train_images[:10].reshape(10, 28*28)\n",
    "display(input_sample.shape)\n",
    "dense_layer = Dense(input_dim=28*28, output_dim=5, activation=ReLU())\n",
    "output_sample = dense_layer.forward(input_sample)\n",
    "display(output_sample.shape)\n",
    "d_A_sample = np.random.randn(*output_sample.shape)\n",
    "d_X_sample = dense_layer.backward(d_A_sample)\n",
    "display(d_X_sample.shape)\n",
    "dense_layer.update_params()"
   ]
  },
  {
   "cell_type": "markdown",
   "id": "ae6c8839",
   "metadata": {},
   "source": [
    "### ソフトマックス"
   ]
  },
  {
   "cell_type": "code",
   "execution_count": 26,
   "id": "455cae5b",
   "metadata": {},
   "outputs": [],
   "source": [
    "class Softmax(LayerBase):\n",
    "    \"\"\"\n",
    "    ソフトマックス層。NumPy で実装する。\n",
    "    \"\"\"\n",
    "    def __init__(self):\n",
    "        self.output_data = None # 順伝播時の出力を保持\n",
    "\n",
    "    def forward(self, X):\n",
    "        \"\"\"\n",
    "        順伝播。\n",
    "\n",
    "        Args:\n",
    "            X (np.ndarray): 入力データ (batch_size, input_dim)\n",
    "        \n",
    "        Returns:\n",
    "            np.ndarray: 出力データ (batch_size, input_dim)\n",
    "        \"\"\"\n",
    "        # オーバーフロー対策のため、入力信号の最大値を引く\n",
    "        X_max = np.max(X, axis=1, keepdims=True)\n",
    "        exp_X = np.exp(X - X_max)\n",
    "        A = exp_X / np.sum(exp_X, axis=1, keepdims=True)\n",
    "\n",
    "        # 出力データを保存\n",
    "        self.output_data = A\n",
    "\n",
    "        return A\n",
    "    \n",
    "    def backward(self, d_A):\n",
    "        \"\"\"\n",
    "        逆伝播。\n",
    "\n",
    "        Args:\n",
    "            d_A (np.ndarray): 出力の勾配 (batch_size, input_dim)\n",
    "\n",
    "        Returns:\n",
    "            np.ndarray: 入力の勾配\n",
    "        \"\"\"\n",
    "        A = self.output_data\n",
    "        d_X = np.zeros_like(A)\n",
    "\n",
    "        # バッチごとに計算\n",
    "        for i in range(A.shape[0]):\n",
    "            # ソフトマックス関数の偏微分は、i と j が同じ場合と異なる場合で場合分け\n",
    "            d_X[i] = (np.diag(A[i]) - np.outer(A[i], A[i])) @ d_A[i]\n",
    "\n",
    "        return d_X"
   ]
  },
  {
   "cell_type": "code",
   "execution_count": 27,
   "id": "ff188393",
   "metadata": {},
   "outputs": [
    {
     "data": {
      "text/plain": [
       "array([[ 2,  2,  3],\n",
       "       [ 4,  5, 10]])"
      ]
     },
     "metadata": {},
     "output_type": "display_data"
    },
    {
     "data": {
      "text/plain": [
       "array([[0.21194156, 0.21194156, 0.57611688],\n",
       "       [0.00245611, 0.00667641, 0.99086747]])"
      ]
     },
     "metadata": {},
     "output_type": "display_data"
    },
    {
     "data": {
      "text/plain": [
       "array([[ 0.21194152,  0.21194152, -0.42388304],\n",
       "       [ 0.00245611,  0.00667641, -0.00913253]])"
      ]
     },
     "metadata": {},
     "output_type": "display_data"
    }
   ],
   "source": [
    "# 簡易的な動作チェック\n",
    "input_sample = np.array([[2, 2, 3], [4, 5, 10]])\n",
    "display(input_sample)\n",
    "softmax_layer = Softmax()\n",
    "output_sample = softmax_layer.forward(input_sample)\n",
    "display(output_sample)\n",
    "Y_sample = np.array([[0, 0, 1], [0, 0, 1]])\n",
    "d_A_sample = - Y_sample / (output_sample + 1e-7)\n",
    "d_X_sample = softmax_layer.backward(d_A_sample)\n",
    "display(d_X_sample)"
   ]
  },
  {
   "cell_type": "markdown",
   "id": "f5eb8268",
   "metadata": {},
   "source": [
    "### 組み合わせてモデルを構築"
   ]
  },
  {
   "cell_type": "code",
   "execution_count": 28,
   "id": "54ac1f8c",
   "metadata": {},
   "outputs": [],
   "source": [
    "class ConvolutionalNeuralNetwork(LayerBase):\n",
    "    \"\"\"\n",
    "    畳み込みニューラルネットワーク。\n",
    "    \"\"\"\n",
    "    def __init__(self, input_shape, num_classes):\n",
    "        \"\"\"\n",
    "        畳み込みニューラルネットワークの初期化。\n",
    "\n",
    "        Args:\n",
    "            input_shape (tuple): 入力の形状 (height, width, channels)\n",
    "            num_classes (int): クラス数\n",
    "        \"\"\"\n",
    "        self.input_shape = input_shape\n",
    "        self.num_classes = num_classes\n",
    "        self.layers = [\n",
    "            Convolution2D(input_shape=input_shape, kernel_size=3, depth=32, stride=1, activation=ReLU()),\n",
    "            MaxPooling2D(pool_size=2, stride=2),\n",
    "            Convolution2D(input_shape=(14, 14, 32), kernel_size=3, depth=64, stride=1, activation=ReLU()),\n",
    "            MaxPooling2D(pool_size=2, stride=2),\n",
    "            Flatten(),\n",
    "            Dense(5*5*64, 64, activation=ReLU()),\n",
    "            Dense(64, num_classes, activation=Softmax()),\n",
    "            # Dense(28*28, 16, activation=ReLU()),\n",
    "            # Dense(16, 16, activation=ReLU()),\n",
    "            # Dense(16, num_classes, activation=Softmax()),\n",
    "            # Dense(26*26*32, num_classes, activation=Softmax())\n",
    "        ]\n",
    "    \n",
    "    def forward(self, X):\n",
    "        \"\"\"\n",
    "        順伝播。\n",
    "\n",
    "        Args:\n",
    "            X (np.ndarray): 入力データ (batch_size, height, width, channels)\n",
    "        \n",
    "        Returns:\n",
    "            np.ndarray: 出力データ (batch_size, num_classes)\n",
    "        \"\"\"\n",
    "        for layer in self.layers:\n",
    "            # print(X.shape)\n",
    "            X = layer.forward(X)\n",
    "        return X\n",
    "    \n",
    "    def backward(self, d_A):\n",
    "        \"\"\"\n",
    "        逆伝播。\n",
    "\n",
    "        Args:\n",
    "            d_A (np.ndarray): 出力の勾配 (batch_size, num_classes)\n",
    "\n",
    "        Returns:\n",
    "            np.ndarray: 入力の勾配\n",
    "        \"\"\"\n",
    "        for layer in reversed(self.layers):\n",
    "            d_A = layer.backward(d_A)\n",
    "        return d_A\n",
    "    \n",
    "    def update_params(self, learning_rate=0.001, beta1=0.9, beta2=0.999, epsilon=1e-8):\n",
    "        \"\"\"\n",
    "        パラメータの更新。(Adam)\n",
    "\n",
    "        Args:\n",
    "            learning_rate (float): 学習率\n",
    "            beta1 (float): 一階モーメントの減衰率\n",
    "            beta2 (float): 二階モーメントの減衰率\n",
    "            epsilon (float): 数値安定化のための微小値\n",
    "        \"\"\"\n",
    "        for layer in self.layers:\n",
    "            if hasattr(layer, \"update_params\"):\n",
    "                layer.update_params(learning_rate, beta1, beta2, epsilon)"
   ]
  },
  {
   "cell_type": "code",
   "execution_count": 29,
   "id": "3578b9b2",
   "metadata": {},
   "outputs": [
    {
     "data": {
      "text/plain": [
       "(3, 28, 28, 1)"
      ]
     },
     "metadata": {},
     "output_type": "display_data"
    },
    {
     "data": {
      "text/plain": [
       "(3, 10)"
      ]
     },
     "metadata": {},
     "output_type": "display_data"
    },
    {
     "data": {
      "text/plain": [
       "array([[0.07283408, 0.13054078, 0.16547586, 0.12736179, 0.0518714 ,\n",
       "        0.08007052, 0.04009567, 0.11608951, 0.10840675, 0.10725363],\n",
       "       [0.07678572, 0.16748428, 0.11644161, 0.10804691, 0.05690874,\n",
       "        0.07762115, 0.04125746, 0.12376011, 0.11474316, 0.11695085],\n",
       "       [0.05939647, 0.12809887, 0.09808947, 0.09551042, 0.05943528,\n",
       "        0.1181295 , 0.06948532, 0.19681378, 0.07608184, 0.09895905]])"
      ]
     },
     "metadata": {},
     "output_type": "display_data"
    },
    {
     "data": {
      "text/plain": [
       "array([[0., 0., 0., 0., 0., 0., 0., 1., 0., 0.],\n",
       "       [0., 0., 1., 0., 0., 0., 0., 0., 0., 0.],\n",
       "       [0., 1., 0., 0., 0., 0., 0., 0., 0., 0.]])"
      ]
     },
     "metadata": {},
     "output_type": "display_data"
    },
    {
     "data": {
      "text/plain": [
       "array([[-0.        , -0.        , -0.        , -0.        , -0.        ,\n",
       "        -0.        , -0.        , -8.61403496, -0.        , -0.        ],\n",
       "       [-0.        , -0.        , -8.58798814, -0.        , -0.        ,\n",
       "        -0.        , -0.        , -0.        , -0.        , -0.        ],\n",
       "       [-0.        , -7.80646394, -0.        , -0.        , -0.        ,\n",
       "        -0.        , -0.        , -0.        , -0.        , -0.        ]])"
      ]
     },
     "metadata": {},
     "output_type": "display_data"
    },
    {
     "data": {
      "text/plain": [
       "(3, 28, 28, 1)"
      ]
     },
     "metadata": {},
     "output_type": "display_data"
    }
   ],
   "source": [
    "# 簡易的な動作チェック\n",
    "input_sample = train_images[:3]\n",
    "display(input_sample.shape)\n",
    "input_shape = (input_sample.shape[1], input_sample.shape[2], input_sample.shape[3])\n",
    "model = ConvolutionalNeuralNetwork(input_shape=input_shape, num_classes=10)\n",
    "output_sample = model.forward(input_sample)\n",
    "display(output_sample.shape)\n",
    "display(output_sample)\n",
    "y_sample = np.eye(10)[test_labels[:3]]\n",
    "display(y_sample)\n",
    "d_A_sample = - y_sample / (output_sample + 1e-7)\n",
    "display(d_A_sample)\n",
    "d_X_sample = model.backward(d_A_sample)\n",
    "display(d_X_sample.shape)\n",
    "model.update_params()"
   ]
  },
  {
   "cell_type": "code",
   "execution_count": 30,
   "id": "a09624f2",
   "metadata": {},
   "outputs": [
    {
     "name": "stdout",
     "output_type": "stream",
     "text": [
      "Epoch 1/2, Batch 94/937, Loss 0.7608, Accuracy 0.7859\n",
      "Epoch 1/2, Batch 188/937, Loss 0.5100, Accuracy 0.8541\n",
      "Epoch 1/2, Batch 281/937, Loss 0.4014, Accuracy 0.8835\n",
      "Epoch 1/2, Batch 375/937, Loss 0.3302, Accuracy 0.9038\n",
      "Epoch 1/2, Batch 469/937, Loss 0.2872, Accuracy 0.9164\n",
      "Epoch 1/2, Batch 562/937, Loss 0.2557, Accuracy 0.9256\n",
      "Epoch 1/2, Batch 656/937, Loss 0.2325, Accuracy 0.9319\n",
      "Epoch 1/2, Batch 749/937, Loss 0.2159, Accuracy 0.9364\n",
      "Epoch 1/2, Batch 843/937, Loss 0.2017, Accuracy 0.9406\n",
      "Epoch 1/2, Batch 937/937, Loss 0.1869, Accuracy 0.9449\n",
      "Epoch 2/2, Batch 94/937, Loss 0.0666, Accuracy 0.9796\n",
      "Epoch 2/2, Batch 188/937, Loss 0.0678, Accuracy 0.9800\n",
      "Epoch 2/2, Batch 281/937, Loss 0.0663, Accuracy 0.9802\n",
      "Epoch 2/2, Batch 375/937, Loss 0.0622, Accuracy 0.9815\n",
      "Epoch 2/2, Batch 469/937, Loss 0.0603, Accuracy 0.9821\n",
      "Epoch 2/2, Batch 562/937, Loss 0.0592, Accuracy 0.9826\n",
      "Epoch 2/2, Batch 656/937, Loss 0.0585, Accuracy 0.9826\n",
      "Epoch 2/2, Batch 749/937, Loss 0.0581, Accuracy 0.9826\n",
      "Epoch 2/2, Batch 843/937, Loss 0.0579, Accuracy 0.9826\n",
      "Epoch 2/2, Batch 937/937, Loss 0.0554, Accuracy 0.9833\n"
     ]
    }
   ],
   "source": [
    "# モデルの学習\n",
    "# ハイパーパラメータ\n",
    "EPOCHS = 2\n",
    "BATCH_SIZE = 64\n",
    "\n",
    "# モデルの初期化\n",
    "input_shape = (28, 28, 1)\n",
    "num_classes = 10\n",
    "model = ConvolutionalNeuralNetwork(input_shape=input_shape, num_classes=num_classes)\n",
    "\n",
    "# 学習\n",
    "num_batches = len(train_images) // BATCH_SIZE\n",
    "check_batches = np.linspace(0, num_batches - 1, 11).astype(int)[1:]\n",
    "for epoch in range(EPOCHS):\n",
    "    total_loss = 0.0\n",
    "    total_accuracy = 0.0\n",
    "    \n",
    "    for batch in range(num_batches):\n",
    "        start_idx = batch * BATCH_SIZE\n",
    "        # end_idx = min(start_idx + BATCH_SIZE, len(train_images)) # 最後のバッチの端数を考慮\n",
    "        end_idx = start_idx + BATCH_SIZE\n",
    "        # ミニバッチの取得\n",
    "        X = train_images[start_idx:end_idx]\n",
    "        Y = np.eye(num_classes)[train_labels[start_idx:end_idx]]\n",
    "\n",
    "        # 順伝播\n",
    "        A = model.forward(X)\n",
    "\n",
    "        # 損失\n",
    "        loss = -np.sum(Y * np.log(A + 1e-7)) / BATCH_SIZE\n",
    "\n",
    "        # 逆伝播\n",
    "        d_A = (- Y / (A + 1e-7)) / BATCH_SIZE\n",
    "        model.backward(d_A)\n",
    "\n",
    "        # パラメータの更新\n",
    "        model.update_params(learning_rate=0.001, beta1=0.9, beta2=0.999, epsilon=1e-8)\n",
    "\n",
    "        total_loss += loss\n",
    "        total_accuracy += np.sum(np.argmax(A, axis=1) == train_labels[start_idx:end_idx]) / BATCH_SIZE\n",
    "\n",
    "        # バッチ数の10%ごとに損失を表示\n",
    "        if batch in check_batches:\n",
    "            print(f\"Epoch {epoch+1}/{EPOCHS}, Batch {batch+1}/{num_batches}, Loss {total_loss/(batch+1):.4f}, Accuracy {total_accuracy/(batch+1):.4f}\")\n"
   ]
  },
  {
   "cell_type": "code",
   "execution_count": 32,
   "id": "210c3691",
   "metadata": {},
   "outputs": [
    {
     "ename": "AttributeError",
     "evalue": "'ConvolutionalNeuralNetwork' object has no attribute 'compute_accuracy'",
     "output_type": "error",
     "traceback": [
      "\u001b[0;31m---------------------------------------------------------------------------\u001b[0m",
      "\u001b[0;31mAttributeError\u001b[0m                            Traceback (most recent call last)",
      "Cell \u001b[0;32mIn[32], line 3\u001b[0m\n\u001b[1;32m      1\u001b[0m \u001b[38;5;66;03m# 得られたモデルでテストデータの精度を計算。\u001b[39;00m\n\u001b[1;32m      2\u001b[0m reshaped_test_images \u001b[38;5;241m=\u001b[39m np\u001b[38;5;241m.\u001b[39mreshape(test_images, [\u001b[38;5;241m-\u001b[39m\u001b[38;5;241m1\u001b[39m, \u001b[38;5;241m784\u001b[39m, \u001b[38;5;241m1\u001b[39m])\n\u001b[0;32m----> 3\u001b[0m test_accuracy \u001b[38;5;241m=\u001b[39m \u001b[43mmodel\u001b[49m\u001b[38;5;241;43m.\u001b[39;49m\u001b[43mcompute_accuracy\u001b[49m(reshaped_test_images, test_labels)\n\u001b[1;32m      4\u001b[0m \u001b[38;5;28mprint\u001b[39m(\u001b[38;5;124mf\u001b[39m\u001b[38;5;124m\"\u001b[39m\u001b[38;5;124mTest accuracy: \u001b[39m\u001b[38;5;132;01m{\u001b[39;00mtest_accuracy\u001b[38;5;132;01m}\u001b[39;00m\u001b[38;5;124m\"\u001b[39m)\n",
      "\u001b[0;31mAttributeError\u001b[0m: 'ConvolutionalNeuralNetwork' object has no attribute 'compute_accuracy'"
     ]
    }
   ],
   "source": [
    "# 得られたモデルでテストデータの精度を計算。\n",
    "reshaped_test_images = np.reshape(test_images, [-1, 784, 1])\n",
    "test_accuracy = model.compute_accuracy(reshaped_test_images, test_labels)\n",
    "print(f\"Test accuracy: {test_accuracy}\")"
   ]
  },
  {
   "cell_type": "code",
   "execution_count": null,
   "id": "159c348a",
   "metadata": {},
   "outputs": [],
   "source": [
    "# 予測した結果をプロット。\n",
    "predictions = model.forward_pass(reshaped_test_images)[-1][..., 0]\n",
    "num_rows = 5\n",
    "num_cols = 3\n",
    "num_images = num_rows * num_cols\n",
    "random_indices = np.random.choice(len(test_images), num_images, replace=False)\n",
    "\n",
    "fig, axes = plt.subplots(num_rows, 2*num_cols, figsize=(2*2*num_cols, 2*num_rows))\n",
    "\n",
    "for i, idx in enumerate(random_indices):\n",
    "    # idx = i\n",
    "    plot_image(axes[i//num_cols, 2*(i%num_cols)], idx, predictions[idx], test_labels, test_images)\n",
    "    plot_value_array(axes[i//num_cols, 2*(i%num_cols) + 1], idx, predictions[idx], test_labels)\n",
    "\n",
    "fig.tight_layout()\n",
    "plt.show()"
   ]
  },
  {
   "cell_type": "code",
   "execution_count": null,
   "id": "c0627672",
   "metadata": {},
   "outputs": [],
   "source": []
  }
 ],
 "metadata": {
  "kernelspec": {
   "display_name": "Python 3 (ipykernel)",
   "language": "python",
   "name": "python3"
  },
  "language_info": {
   "codemirror_mode": {
    "name": "ipython",
    "version": 3
   },
   "file_extension": ".py",
   "mimetype": "text/x-python",
   "name": "python",
   "nbconvert_exporter": "python",
   "pygments_lexer": "ipython3",
   "version": "3.10.12"
  }
 },
 "nbformat": 4,
 "nbformat_minor": 5
}
